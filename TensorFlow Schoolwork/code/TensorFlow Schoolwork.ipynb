{
 "cells": [
  {
   "cell_type": "markdown",
   "metadata": {},
   "source": [
    "TensorFlow Schoolwork\n",
    "\n",
    "@author：刘士坤 2016011371\n",
    "\n",
    "使用TensorFlow设计K近邻模型，并使用鸢尾花数据集训练、验证模型。\n"
   ]
  },
  {
   "cell_type": "markdown",
   "metadata": {},
   "source": [
    "导入相应的库"
   ]
  },
  {
   "cell_type": "code",
   "execution_count": 9,
   "metadata": {},
   "outputs": [],
   "source": [
    "import tensorflow as tf\n",
    "import numpy as np\n",
    "import pandas as pd\n",
    "import matplotlib.pyplot as plt"
   ]
  },
  {
   "cell_type": "markdown",
   "metadata": {},
   "source": [
    "### 1.将鸢尾花数据集安装8 : 2的比例划分成训练集与验证集（不使用Dataset API）。"
   ]
  },
  {
   "cell_type": "markdown",
   "metadata": {},
   "source": [
    "#### 数据集导入"
   ]
  },
  {
   "cell_type": "code",
   "execution_count": 2,
   "metadata": {},
   "outputs": [],
   "source": [
    "data = pd.read_csv('./data/iris.data.csv', header=None)   # iris数据集\n",
    "data.columns = ['sepal length', 'sepal width', 'petal length', 'petal width', 'species']    # 特征及类别名称"
   ]
  },
  {
   "cell_type": "markdown",
   "metadata": {},
   "source": [
    "#### 将原始数据集划分成训练集与测试集\n",
    "##### 将三个类别的数据分别提取出来，setosa、versicolor、virginica分别用0、1、2来表示"
   ]
  },
  {
   "cell_type": "code",
   "execution_count": 3,
   "metadata": {},
   "outputs": [],
   "source": [
    "X = data.iloc[0:150, 0:4].values\n",
    "y = data.iloc[0:150, 4].values\n",
    "y[y == 'Iris-setosa'] = 0                                 # Iris-setosa 输出label用0表示\n",
    "y[y == 'Iris-versicolor'] = 1                             # Iris-versicolor 输出label用1表示\n",
    "y[y == 'Iris-virginica'] = 2                              # Iris-virginica 输出label用2表示\n",
    "X_setosa, y_setosa = X[0:50], y[0:50]                     # Iris-setosa 4个特征\n",
    "X_versicolor, y_versicolor = X[50:100], y[50:100]         # Iris-versicolor 4个特征\n",
    "X_virginica, y_virginica = X[100:150], y[100:150]         # Iris-virginica 4个特征"
   ]
  },
  {
   "cell_type": "markdown",
   "metadata": {},
   "source": [
    "##### 将每个类别的所有样本分成训练样本（training set）和测试样本（test set），各占所有样本的比例分别为80%，20%。进行40：10的划分后合并"
   ]
  },
  {
   "cell_type": "code",
   "execution_count": 4,
   "metadata": {},
   "outputs": [],
   "source": [
    "# training set\n",
    "X_setosa_train = X_setosa[:40, :]\n",
    "y_setosa_train = y_setosa[:40]\n",
    "X_versicolor_train = X_versicolor[:40, :]\n",
    "y_versicolor_train = y_versicolor[:40]\n",
    "X_virginica_train = X_virginica[:40, :]\n",
    "y_virginica_train = y_virginica[:40]\n",
    "X_train = np.vstack([X_setosa_train, X_versicolor_train, X_virginica_train])\n",
    "y_train = np.hstack([y_setosa_train, y_versicolor_train, y_virginica_train])\n",
    "\n",
    "# test set\n",
    "X_setosa_test = X_setosa[40:50, :]\n",
    "y_setosa_test = y_setosa[40:50]\n",
    "X_versicolor_test = X_versicolor[40:50, :]\n",
    "y_versicolor_test = y_versicolor[40:50]\n",
    "X_virginica_test = X_virginica[40:50, :]\n",
    "y_virginica_test = y_virginica[40:50]\n",
    "X_test = np.vstack([X_setosa_test, X_versicolor_test, X_virginica_test])\n",
    "y_test = np.hstack([y_setosa_test, y_versicolor_test, y_virginica_test])"
   ]
  },
  {
   "cell_type": "markdown",
   "metadata": {},
   "source": [
    "### 2.设计模型：\n",
    "        使用TensorFlow设计K近邻模型（可不使用KD树优化算法）\n",
    "        模型关键部分需添加注释"
   ]
  },
  {
   "cell_type": "markdown",
   "metadata": {},
   "source": [
    "#### KNN的训练过程实际上是一种数据标类、数据存储的过程"
   ]
  },
  {
   "cell_type": "markdown",
   "metadata": {},
   "source": [
    "##### 计算输入测试样本和所有训练样本之间的距离"
   ]
  },
  {
   "cell_type": "code",
   "execution_count": 5,
   "metadata": {},
   "outputs": [],
   "source": [
    "#构建图模型\n",
    "# 输入占位符，X_train为训练集的占位符，X_test为一个验证样本的占位符\n",
    "z_train = tf.placeholder(\"float\", [None, 4])\n",
    "z_test = tf.placeholder(\"float\", [4])\n",
    "#构建计算距离\n",
    "distance = tf.reduce_sum(tf.abs(tf.add(z_train, tf.negative(z_test))), reduction_indices=1)\n",
    "\n",
    "# 预测函数   TensorFlow设计K近邻模型\n",
    "def knn(K): \n",
    "    with tf.Session() as sess:\n",
    "        #字典存储\n",
    "        pred = [] \n",
    "        #测试集循环\n",
    "        for i in range(len(X_test)):\n",
    "            #距离矩阵\n",
    "            distance_matrix = sess.run(distance, feed_dict={z_train:X_train,z_test:X_test[i]}) \n",
    "            #根据K值，选择最可能属于的类别\n",
    "            # 矩阵排序,先取前K个\n",
    "            knn_fir = np.argsort(distance_matrix)[:K]\n",
    "            #再三个类别投票表决 \n",
    "            Iris_class=[0, 0, 0]\n",
    "            for m in knn_fir:\n",
    "                if(y_train[m]==0):\n",
    "                    Iris_class[0] += 1\n",
    "                elif(y_train[m]==1):\n",
    "                    Iris_class[1] += 1\n",
    "                else:\n",
    "                    Iris_class[2] += 1\n",
    "            y_pred = np.argmax(Iris_class)\n",
    "            pred.append(y_pred)\n",
    "        return pred"
   ]
  },
  {
   "cell_type": "markdown",
   "metadata": {},
   "source": [
    "### 3.训练模型：\n",
    "        使用TensorFlow完成训练相关的代码\n",
    "        训练关键部分需添加注释"
   ]
  },
  {
   "cell_type": "markdown",
   "metadata": {},
   "source": [
    "#### KNN的测试过程是核心部分：选择合适的K值"
   ]
  },
  {
   "cell_type": "code",
   "execution_count": 6,
   "metadata": {},
   "outputs": [],
   "source": [
    "k_scores = []\n",
    "for K in range(1, 10):\n",
    "    y_pred = knn(K)\n",
    "    acc = np.sum(np.equal(y_pred,y_test)) / len(y_test)\n",
    "    k_scores.append(acc)"
   ]
  },
  {
   "cell_type": "code",
   "execution_count": 7,
   "metadata": {},
   "outputs": [
    {
     "data": {
      "image/png": "[encoded data removed]",
      "text/plain": [
       "<Figure size 432x288 with 1 Axes>"
      ]
     },
     "metadata": {},
     "output_type": "display_data"
    }
   ],
   "source": [
    "plt.plot(range(1, 10), k_scores)\n",
    "plt.savefig(\"accuracy.png\")#保存图像用于之后的作业提交"
   ]
  },
  {
   "cell_type": "markdown",
   "metadata": {},
   "source": [
    "### 4.验证模型：\n",
    "        使用验证集检测模型性能\n",
    "        使用验证集调整超参数"
   ]
  },
  {
   "cell_type": "markdown",
   "metadata": {},
   "source": [
    "#### 选择完合适的K值之后，就可以对验证集进行预测分析"
   ]
  },
  {
   "cell_type": "code",
   "execution_count": 8,
   "metadata": {},
   "outputs": [
    {
     "name": "stdout",
     "output_type": "stream",
     "text": [
      "测试集预测准确率：1.000000\n"
     ]
    }
   ],
   "source": [
    "y_pred = knn(5)\n",
    "accuracy = np.mean(y_pred == y_test)\n",
    "print('测试集预测准确率：%f' % accuracy)"
   ]
  }
 ],
 "metadata": {
  "kernelspec": {
   "display_name": "Python 3",
   "language": "python",
   "name": "python3"
  },
  "language_info": {
   "codemirror_mode": {
    "name": "ipython",
    "version": 3
   },
   "file_extension": ".py",
   "mimetype": "text/x-python",
   "name": "python",
   "nbconvert_exporter": "python",
   "pygments_lexer": "ipython3",
   "version": "3.6.5"
  }
 },
 "nbformat": 4,
 "nbformat_minor": 2
}
