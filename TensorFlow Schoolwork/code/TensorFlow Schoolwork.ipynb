{
 "cells": [
  {
   "cell_type": "markdown",
   "metadata": {},
   "source": [
    "TensorFlow Schoolwork\n",
    "\n",
    "@author：刘士坤 2016011371\n",
    "\n",
    "使用TensorFlow设计K近邻模型，并使用鸢尾花数据集训练、验证模型。\n"
   ]
  },
  {
   "cell_type": "markdown",
   "metadata": {},
   "source": [
    "导入相应的库"
   ]
  },
  {
   "cell_type": "code",
   "execution_count": 11,
   "metadata": {},
   "outputs": [],
   "source": [
    "import tensorflow as tf\n",
    "import numpy as np\n",
    "import pandas as pd"
   ]
  },
  {
   "cell_type": "markdown",
   "metadata": {},
   "source": [
    "### 1.将鸢尾花数据集安装8 : 2的比例划分成训练集与验证集（不使用Dataset API）。"
   ]
  },
  {
   "cell_type": "markdown",
   "metadata": {},
   "source": [
    "#### 数据集导入"
   ]
  },
  {
   "cell_type": "code",
   "execution_count": 2,
   "metadata": {},
   "outputs": [],
   "source": [
    "data = pd.read_csv('./data/iris.data.csv', header=None)   # iris数据集\n",
    "data.columns = ['sepal length', 'sepal width', 'petal length', 'petal width', 'species']    # 特征及类别名称"
   ]
  },
  {
   "cell_type": "markdown",
   "metadata": {},
   "source": [
    "#### 将原始数据集划分成训练集与测试集\n",
    "##### 将三个类别的数据分别提取出来，setosa、versicolor、virginica分别用0、1、2来表示"
   ]
  },
  {
   "cell_type": "code",
   "execution_count": 3,
   "metadata": {},
   "outputs": [],
   "source": [
    "X = data.iloc[0:150, 0:4].values\n",
    "y = data.iloc[0:150, 4].values\n",
    "y[y == 'Iris-setosa'] = 0                                 # Iris-setosa 输出label用0表示\n",
    "y[y == 'Iris-versicolor'] = 1                             # Iris-versicolor 输出label用1表示\n",
    "y[y == 'Iris-virginica'] = 2                              # Iris-virginica 输出label用2表示\n",
    "X_setosa, y_setosa = X[0:50], y[0:50]                     # Iris-setosa 4个特征\n",
    "X_versicolor, y_versicolor = X[50:100], y[50:100]         # Iris-versicolor 4个特征\n",
    "X_virginica, y_virginica = X[100:150], y[100:150]         # Iris-virginica 4个特征"
   ]
  },
  {
   "cell_type": "markdown",
   "metadata": {},
   "source": [
    "##### 将每个类别的所有样本分成训练样本（training set）和测试样本（test set），各占所有样本的比例分别为80%，20%。进行40：10的划分后合并"
   ]
  },
  {
   "cell_type": "code",
   "execution_count": 4,
   "metadata": {},
   "outputs": [],
   "source": [
    "# training set\n",
    "X_setosa_train = X_setosa[:40, :]\n",
    "y_setosa_train = y_setosa[:40]\n",
    "X_versicolor_train = X_versicolor[:40, :]\n",
    "y_versicolor_train = y_versicolor[:40]\n",
    "X_virginica_train = X_virginica[:40, :]\n",
    "y_virginica_train = y_virginica[:40]\n",
    "X_train = np.vstack([X_setosa_train, X_versicolor_train, X_virginica_train])\n",
    "y_train = np.hstack([y_setosa_train, y_versicolor_train, y_virginica_train])\n",
    "\n",
    "# test set\n",
    "X_setosa_test = X_setosa[40:50, :]\n",
    "y_setosa_test = y_setosa[40:50]\n",
    "X_versicolor_test = X_versicolor[40:50, :]\n",
    "y_versicolor_test = y_versicolor[40:50]\n",
    "X_virginica_test = X_virginica[40:50, :]\n",
    "y_virginica_test = y_virginica[40:50]\n",
    "X_test = np.vstack([X_setosa_test, X_versicolor_test, X_virginica_test])\n",
    "y_test = np.hstack([y_setosa_test, y_versicolor_test, y_virginica_test])"
   ]
  },
  {
   "cell_type": "markdown",
   "metadata": {},
   "source": [
    "### 2.设计模型：\n",
    "        使用TensorFlow设计K近邻模型（可不使用KD树优化算法）\n",
    "        模型关键部分需添加注释"
   ]
  },
  {
   "cell_type": "markdown",
   "metadata": {},
   "source": [
    "#### 开启eager模式"
   ]
  },
  {
   "cell_type": "code",
   "execution_count": 5,
   "metadata": {},
   "outputs": [],
   "source": [
    "tf.enable_eager_execution()"
   ]
  },
  {
   "cell_type": "code",
   "execution_count": 6,
   "metadata": {},
   "outputs": [
    {
     "data": {
      "text/plain": [
       "True"
      ]
     },
     "execution_count": 6,
     "metadata": {},
     "output_type": "execute_result"
    }
   ],
   "source": [
    "tf.executing_eagerly()#检测是否开启"
   ]
  },
  {
   "cell_type": "markdown",
   "metadata": {},
   "source": [
    "#### KNN的训练过程实际上是一种数据标类、数据存储的过程"
   ]
  },
  {
   "cell_type": "markdown",
   "metadata": {},
   "source": [
    "##### 定义一个类（class）来实现KNN算法模块，在KNearestNeighbor类中定义训练函数，训练函数保存所有训练样本。"
   ]
  },
  {
   "cell_type": "code",
   "execution_count": 7,
   "metadata": {},
   "outputs": [],
   "source": [
    "class KNearestNeighbor(object):\n",
    "    def __init__(self):\n",
    "        pass\n",
    "\n",
    "    # 训练函数\n",
    "    def train(self, X, y):\n",
    "        self.X_train = X\n",
    "        self.y_train = y\n",
    "    \n",
    "    # 预测函数\n",
    "    def predict(self, X, k=1):\n",
    "        # 计算L2距离\n",
    "        num_test = X.shape[0]\n",
    "        num_train = self.X_train.shape[0]\n",
    "        dists = np.zeros((num_test, num_train))    # 初始化距离函数\n",
    "        # because(X - X_train)*(X - X_train) = -2X*X_train + X*X + X_train*X_train, so\n",
    "        d1 = -2 * np.dot(X, self.X_train.T)    # shape (num_test, num_train)\n",
    "        d2 = np.sum(np.square(X), axis=1, keepdims=True)    # shape (num_test, 1)\n",
    "        d3 = np.sum(np.square(self.X_train), axis=1)    # shape (1, num_train)\n",
    "        dist = np.sqrt(d1 + d2 + d3)\n",
    "        # 根据K值，选择最可能属于的类别\n",
    "        y_pred = np.zeros(num_test)\n",
    "        for i in range(num_test):\n",
    "            dist_k_min = np.argsort(dist[i])[:k]    # 最近邻k个实例位置\n",
    "            y_kclose = self.y_train[dist_k_min]     # 最近邻k个实例对应的标签\n",
    "            y_pred[i] = np.argmax(np.bincount(y_kclose.tolist()))    # 找出k个标签中从属类别最多的作为预测类别\n",
    "\n",
    "        return y_pred"
   ]
  },
  {
   "cell_type": "markdown",
   "metadata": {},
   "source": [
    "### 3.训练模型：\n",
    "        使用TensorFlow完成训练相关的代码\n",
    "        训练关键部分需添加注释"
   ]
  },
  {
   "cell_type": "markdown",
   "metadata": {},
   "source": [
    "#### KNN的测试过程是核心部分：选择合适的K值"
   ]
  },
  {
   "cell_type": "code",
   "execution_count": 8,
   "metadata": {},
   "outputs": [],
   "source": [
    "KNN = KNearestNeighbor()"
   ]
  },
  {
   "cell_type": "code",
   "execution_count": 9,
   "metadata": {},
   "outputs": [
    {
     "name": "stdout",
     "output_type": "stream",
     "text": [
      "k = 3, accuracy: 0.900000\n",
      "k = 5, accuracy: 0.891667\n",
      "k = 7, accuracy: 0.891667\n",
      "k = 9, accuracy: 0.900000\n",
      "k = 11, accuracy: 0.891667\n",
      "k = 13, accuracy: 0.900000\n",
      "k = 15, accuracy: 0.891667\n",
      "Best K is: 3\n",
      "\n"
     ]
    }
   ],
   "source": [
    "num_folds = 5    # 训练数据分为5 folds\n",
    "K_classes = [3, 5, 7, 9, 11, 13, 15]    # 所有K值\n",
    "\n",
    "# 把训练数据分成5份\n",
    "X_train_folds = []\n",
    "y_train_folds = []\n",
    "X_train_folds = np.split(X_train, num_folds)\n",
    "y_train_folds = np.split(y_train, num_folds)\n",
    "\n",
    "# 字典用来存储不同K值对应的准确率\n",
    "K_accuracy = []\n",
    "k_best = K_classes[0]\n",
    "\n",
    "for k in K_classes:\n",
    "    accuracies = []\n",
    "    for i in range(num_folds):\n",
    "        Xtr = np.concatenate(X_train_folds[:i] + X_train_folds[i+1:])\n",
    "        ytr = np.concatenate(y_train_folds[:i] + y_train_folds[i+1:])\n",
    "        Xcv = X_train_folds[i]\n",
    "        ycv = y_train_folds[i]\n",
    "        KNN.train(Xtr, ytr)\n",
    "        ycv_pred = KNN.predict(Xcv, k=k)\n",
    "        accuracy = np.mean(ycv_pred == ycv)\n",
    "        accuracies.append(accuracy)\n",
    "    accuracies_avg = np.mean(accuracies)\n",
    "    K_accuracy.append(accuracies_avg)\n",
    "    if accuracies_avg > k_best:\n",
    "        k_best = accuracies_avg\n",
    "\n",
    "# 打印出验证结果\n",
    "for k in range(len(K_classes)):\n",
    "    print('k = %d, accuracy: %f' % (K_classes[k], K_accuracy[k]))\n",
    "print('Best K is: %d\\n' % k_best)"
   ]
  },
  {
   "cell_type": "markdown",
   "metadata": {},
   "source": [
    "### 4.验证模型：\n",
    "        使用验证集检测模型性能\n",
    "        使用验证集调整超参数"
   ]
  },
  {
   "cell_type": "markdown",
   "metadata": {},
   "source": [
    "#### 选择完合适的K值之后，就可以对验证集进行预测分析"
   ]
  },
  {
   "cell_type": "code",
   "execution_count": 10,
   "metadata": {},
   "outputs": [
    {
     "name": "stdout",
     "output_type": "stream",
     "text": [
      "测试集预测准确率：1.000000\n"
     ]
    }
   ],
   "source": [
    "KNN.train(X_train, y_train)\n",
    "y_pred = KNN.predict(X_test, k=3)\n",
    "accuracy = np.mean(y_pred == y_test)\n",
    "print('测试集预测准确率：%f' % accuracy)"
   ]
  },
  {
   "cell_type": "code",
   "execution_count": null,
   "metadata": {},
   "outputs": [],
   "source": []
  }
 ],
 "metadata": {
  "kernelspec": {
   "display_name": "Python 3",
   "language": "python",
   "name": "python3"
  },
  "language_info": {
   "codemirror_mode": {
    "name": "ipython",
    "version": 3
   },
   "file_extension": ".py",
   "mimetype": "text/x-python",
   "name": "python",
   "nbconvert_exporter": "python",
   "pygments_lexer": "ipython3",
   "version": "3.6.5"
  }
 },
 "nbformat": 4,
 "nbformat_minor": 2
}
